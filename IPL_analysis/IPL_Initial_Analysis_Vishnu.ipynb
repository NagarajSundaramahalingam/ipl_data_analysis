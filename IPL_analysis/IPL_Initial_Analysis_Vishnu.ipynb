{
 "cells": [
  {
   "cell_type": "code",
   "execution_count": 1,
   "metadata": {},
   "outputs": [],
   "source": [
    "import pandas as pd\n",
    "import numpy as np"
   ]
  },
  {
   "cell_type": "code",
   "execution_count": 2,
   "metadata": {},
   "outputs": [],
   "source": [
    "# Reading deliveries file.\n",
    "\n",
    "deliveries_df = pd.read_csv(\"data/deliveries.csv\")\n",
    "matches_df = pd.read_csv(\"data/matches.csv\")"
   ]
  },
  {
   "cell_type": "code",
   "execution_count": 151,
   "metadata": {},
   "outputs": [],
   "source": [
    "# First 5 rows\n",
    "\n",
    "# deliveries_df.head()\n",
    "# matches_df.head()"
   ]
  },
  {
   "cell_type": "code",
   "execution_count": 24,
   "metadata": {},
   "outputs": [],
   "source": [
    "# Statistics describe of dataframe\n",
    "\n",
    "# deliveries_df.describe()\n",
    "# matches_df.describe()"
   ]
  },
  {
   "cell_type": "code",
   "execution_count": 36,
   "metadata": {},
   "outputs": [],
   "source": [
    "# dtypes \n",
    "\n",
    "# deliveries_df.dtypes\n",
    "# matches_df.dtypes\n",
    "# matches_df.columns"
   ]
  },
  {
   "cell_type": "code",
   "execution_count": 38,
   "metadata": {
    "scrolled": false
   },
   "outputs": [],
   "source": [
    "# info of a dataframe\n",
    "\n",
    "# deliveries_df.info\n",
    "# deliveries_df.info(verbose=False)\n",
    "# deliveries_df.info()\n",
    "# deliveries_df.info(memory_usage ='deep')\n",
    "# matches_df.info(memory_usage ='deep')\n",
    "# Category type - Advance concept."
   ]
  },
  {
   "cell_type": "code",
   "execution_count": 70,
   "metadata": {},
   "outputs": [],
   "source": [
    "# unique teams\n",
    "\n",
    "# unique_teams = matches_df.team1.unique()\n",
    "# print(np.sort(unique_teams))\n",
    "# print(len(unique_teams))\n",
    "\n",
    "\n",
    "# current_season_teams = matches_df[matches_df.season == 2019].team1.unique()\n",
    "# print(np.sort(current_season_teams))\n",
    "# print(len(current_season_teams))\n"
   ]
  },
  {
   "cell_type": "code",
   "execution_count": 3,
   "metadata": {},
   "outputs": [],
   "source": [
    "# sort name function\n",
    "\n",
    "def alias(team):\n",
    "    if team == 'Chennai Super Kings':\n",
    "        return 'CSK'\n",
    "    elif team == 'Deccan Chargers' or team == 'Sunrisers Hyderabad':\n",
    "        return 'SRH'\n",
    "    elif team == 'Delhi Capitals' or team == 'Delhi Daredevils':\n",
    "        return 'DD'\n",
    "    elif team == 'Gujarat Lions':\n",
    "        return 'GL'\n",
    "    elif team == 'Kings XI Punjab':\n",
    "        return 'KXIP'\n",
    "    elif team == 'Kochi Tuskers Kerala':\n",
    "        return 'KTK'\n",
    "    elif team == 'Kolkata Knight Riders':\n",
    "        return 'KKR'\n",
    "    elif team == 'Mumbai Indians':\n",
    "        return 'MI'\n",
    "    elif team == 'Pune Warriors' or team == 'Rising Pune Supergiants'or team == 'Rising Pune Supergiant':\n",
    "        return 'RPSG'\n",
    "    elif team == 'Rajasthan Royals':\n",
    "        return 'RR'\n",
    "    elif team == 'Royal Challengers Bangalore':\n",
    "        return 'RCB'\n"
   ]
  },
  {
   "cell_type": "code",
   "execution_count": 4,
   "metadata": {},
   "outputs": [],
   "source": [
    "\n",
    "matches_df['team2']=matches_df['team2'].apply(alias)\n",
    "matches_df['team1']=matches_df['team1'].apply(alias)\n",
    "matches_df['winner']=list(map(alias,matches_df['winner']))\n",
    "matches_df['toss_winner']=list(map(alias,matches_df['toss_winner']))\n",
    "\n",
    "deliveries_df['batting_team'] = deliveries_df['batting_team'].apply(alias)\n",
    "deliveries_df['bowling_team']=list(map(alias, deliveries_df['bowling_team']))"
   ]
  },
  {
   "cell_type": "code",
   "execution_count": 68,
   "metadata": {},
   "outputs": [],
   "source": [
    "# deliveries_df\n",
    "# matches_df"
   ]
  },
  {
   "cell_type": "code",
   "execution_count": 108,
   "metadata": {},
   "outputs": [],
   "source": [
    "# # Match analysis.\n",
    "\n",
    "# print(f'No of mathces played - {matches_df.id.count()}')\n",
    "# print('Mathch results - ')\n",
    "# print(matches_df.result.value_counts())"
   ]
  },
  {
   "cell_type": "code",
   "execution_count": 5,
   "metadata": {},
   "outputs": [
    {
     "name": "stdout",
     "output_type": "stream",
     "text": [
      "Total venues - 41\n"
     ]
    },
    {
     "data": {
      "text/plain": [
       "array(['ACA-VDCA Stadium', 'Barabati Stadium', 'Brabourne Stadium',\n",
       "       'Buffalo Park', 'De Beers Diamond Oval',\n",
       "       'Dr DY Patil Sports Academy',\n",
       "       'Dr. Y.S. Rajasekhara Reddy ACA-VDCA Cricket Stadium',\n",
       "       'Dubai International Cricket Stadium', 'Eden Gardens',\n",
       "       'Feroz Shah Kotla', 'Feroz Shah Kotla Ground', 'Green Park',\n",
       "       'Himachal Pradesh Cricket Association Stadium',\n",
       "       'Holkar Cricket Stadium', 'IS Bindra Stadium',\n",
       "       'JSCA International Stadium Complex', 'Kingsmead',\n",
       "       'M Chinnaswamy Stadium', 'M. A. Chidambaram Stadium',\n",
       "       'M. Chinnaswamy Stadium', 'MA Chidambaram Stadium, Chepauk',\n",
       "       'Maharashtra Cricket Association Stadium', 'Nehru Stadium',\n",
       "       'New Wanderers Stadium', 'Newlands', 'OUTsurance Oval',\n",
       "       'Punjab Cricket Association IS Bindra Stadium, Mohali',\n",
       "       'Punjab Cricket Association Stadium, Mohali',\n",
       "       'Rajiv Gandhi International Stadium, Uppal',\n",
       "       'Rajiv Gandhi Intl. Cricket Stadium',\n",
       "       'Sardar Patel Stadium, Motera',\n",
       "       'Saurashtra Cricket Association Stadium', 'Sawai Mansingh Stadium',\n",
       "       'Shaheed Veer Narayan Singh International Stadium',\n",
       "       'Sharjah Cricket Stadium', 'Sheikh Zayed Stadium',\n",
       "       \"St George's Park\", 'Subrata Roy Sahara Stadium',\n",
       "       'SuperSport Park', 'Vidarbha Cricket Association Stadium, Jamtha',\n",
       "       'Wankhede Stadium'], dtype=object)"
      ]
     },
     "execution_count": 5,
     "metadata": {},
     "output_type": "execute_result"
    }
   ],
   "source": [
    "print(f\"Total venues - {matches_df['venue'].nunique()}\")\n",
    "np.sort(matches_df['venue'].unique())"
   ]
  },
  {
   "cell_type": "code",
   "execution_count": 5,
   "metadata": {},
   "outputs": [
    {
     "name": "stdout",
     "output_type": "stream",
     "text": [
      "Total venues - 35\n"
     ]
    },
    {
     "data": {
      "text/plain": [
       "array(['ACA-VDCA Stadium', 'Barabati Stadium', 'Brabourne Stadium',\n",
       "       'Buffalo Park', 'De Beers Diamond Oval',\n",
       "       'Dr DY Patil Sports Academy',\n",
       "       'Dr. Y.S. Rajasekhara Reddy ACA-VDCA Cricket Stadium',\n",
       "       'Dubai International Cricket Stadium', 'Eden Gardens',\n",
       "       'Feroz Shah Kotla', 'Green Park',\n",
       "       'Himachal Pradesh Cricket Association Stadium',\n",
       "       'Holkar Cricket Stadium', 'JSCA International Stadium Complex',\n",
       "       'Kingsmead', 'M Chinnaswamy Stadium',\n",
       "       'MA Chidambaram Stadium, Chepauk',\n",
       "       'Maharashtra Cricket Association Stadium', 'Nehru Stadium',\n",
       "       'New Wanderers Stadium', 'Newlands', 'OUTsurance Oval',\n",
       "       'Punjab Cricket Association Stadium, Mohali',\n",
       "       'Rajiv Gandhi International Stadium, Uppal',\n",
       "       'Sardar Patel Stadium, Motera',\n",
       "       'Saurashtra Cricket Association Stadium', 'Sawai Mansingh Stadium',\n",
       "       'Shaheed Veer Narayan Singh International Stadium',\n",
       "       'Sharjah Cricket Stadium', 'Sheikh Zayed Stadium',\n",
       "       \"St George's Park\", 'Subrata Roy Sahara Stadium',\n",
       "       'SuperSport Park', 'Vidarbha Cricket Association Stadium, Jamtha',\n",
       "       'Wankhede Stadium'], dtype=object)"
      ]
     },
     "execution_count": 5,
     "metadata": {},
     "output_type": "execute_result"
    }
   ],
   "source": [
    "# Feroz Shah Kotla Ground == Feroz Shah Kotla\n",
    "\n",
    "# IS Bindra Stadium = 'Punjab Cricket Association IS Bindra Stadium, Mohali', = 'Punjab Cricket Association Stadium, Mohali',\n",
    "\n",
    "# 'M Chinnaswamy Stadium' ==    'M. Chinnaswamy Stadium',\n",
    "# 'M. A. Chidambaram Stadium', == 'MA Chidambaram Stadium, Chepauk',\n",
    "\n",
    "# 'Rajiv Gandhi International Stadium, Uppal', 'Rajiv Gandhi Intl. Cricket Stadium',\n",
    "\n",
    "\n",
    "matches_df['venue']=matches_df['venue'].str.replace('Feroz Shah Kotla Ground','Feroz Shah Kotla')\n",
    "matches_df['venue']=matches_df['venue'].str.replace('M. Chinnaswamy Stadium', 'M Chinnaswamy Stadium')\n",
    "matches_df['venue']=matches_df['venue'].str.replace('M. A. Chidambaram Stadium', 'MA Chidambaram Stadium, Chepauk')\n",
    "matches_df['venue']=matches_df['venue'].str.replace('Rajiv Gandhi Intl. Cricket Stadium', \n",
    "                                                    'Rajiv Gandhi International Stadium, Uppal')\n",
    "matches_df['venue']=matches_df['venue'].str.replace('Punjab Cricket Association IS Bindra Stadium, Mohali', \n",
    "                                'Punjab Cricket Association Stadium, Mohali')\n",
    "\n",
    "matches_df['venue']=matches_df['venue'].str.replace('IS Bindra Stadium', \n",
    "                                'Punjab Cricket Association Stadium, Mohali')\n",
    "\n",
    "\n",
    "print(f\"Total venues - {matches_df['venue'].nunique()}\")\n",
    "np.sort(matches_df['venue'].unique())"
   ]
  },
  {
   "cell_type": "code",
   "execution_count": null,
   "metadata": {},
   "outputs": [],
   "source": [
    "##Venue wise analysis"
   ]
  },
  {
   "cell_type": "code",
   "execution_count": 26,
   "metadata": {},
   "outputs": [
    {
     "data": {
      "text/plain": [
       "M Chinnaswamy Stadium                                  80\n",
       "Eden Gardens                                           77\n",
       "Feroz Shah Kotla                                       74\n",
       "Wankhede Stadium                                       73\n",
       "Rajiv Gandhi International Stadium, Uppal              64\n",
       "MA Chidambaram Stadium, Chepauk                        57\n",
       "Punjab Cricket Association Stadium, Mohali             56\n",
       "Sawai Mansingh Stadium                                 47\n",
       "Maharashtra Cricket Association Stadium                21\n",
       "Subrata Roy Sahara Stadium                             17\n",
       "Dr DY Patil Sports Academy                             17\n",
       "Kingsmead                                              15\n",
       "Sardar Patel Stadium, Motera                           12\n",
       "SuperSport Park                                        12\n",
       "Brabourne Stadium                                      11\n",
       "Dr. Y.S. Rajasekhara Reddy ACA-VDCA Cricket Stadium    11\n",
       "Saurashtra Cricket Association Stadium                 10\n",
       "Himachal Pradesh Cricket Association Stadium            9\n",
       "Holkar Cricket Stadium                                  9\n",
       "New Wanderers Stadium                                   8\n",
       "Dubai International Cricket Stadium                     7\n",
       "JSCA International Stadium Complex                      7\n",
       "Barabati Stadium                                        7\n",
       "St George's Park                                        7\n",
       "Newlands                                                7\n",
       "Sheikh Zayed Stadium                                    7\n",
       "Sharjah Cricket Stadium                                 6\n",
       "Shaheed Veer Narayan Singh International Stadium        6\n",
       "Nehru Stadium                                           5\n",
       "Green Park                                              4\n",
       "De Beers Diamond Oval                                   3\n",
       "Vidarbha Cricket Association Stadium, Jamtha            3\n",
       "Buffalo Park                                            3\n",
       "ACA-VDCA Stadium                                        2\n",
       "OUTsurance Oval                                         2\n",
       "Name: venue, dtype: int64"
      ]
     },
     "execution_count": 26,
     "metadata": {},
     "output_type": "execute_result"
    }
   ],
   "source": [
    "# Number of matches by venue\n",
    "\n",
    "matches_df['venue'].value_counts()\n",
    "# matches_df['venue'].value_counts().head()\n",
    "# matches_df['venue'].value_counts().tail()"
   ]
  },
  {
   "cell_type": "code",
   "execution_count": 12,
   "metadata": {},
   "outputs": [],
   "source": [
    "# # matches_df.groupby(['venue','toss_decision']).agg({'toss_decision':'count'}).sort_values(by=['venue'], ascending=False)\n",
    "\n",
    "# venue_list = ['MA Chidambaram Stadium, Chepauk','Wankhede Stadium']\n",
    "\n",
    "# matches_df[matches_df.venue.isin(venue_list)].groupby(['venue','toss_decision']).agg({'toss_decision':'count'}).sort_values(by=['venue'], ascending=False)\n"
   ]
  },
  {
   "cell_type": "code",
   "execution_count": 35,
   "metadata": {
    "scrolled": false
   },
   "outputs": [],
   "source": [
    "# First innings avg.\n",
    "\n",
    "\n",
    "# ball_matches_merge=pd.merge(matches_df,deliveries_df,right_on='match_id',left_on='id')\n",
    "\n",
    "# venue_innings = ball_matches_merge[ball_matches_merge.inning<=2].groupby(['venue', 'inning']).agg({'total_runs':'sum', 'match_id':'nunique'}).sort_values(by=['match_id'], ascending=False)\n",
    "\n",
    "# venue_innings['avg_score'] = venue_innings.total_runs/venue_innings.match_id\n",
    "\n",
    "# venue_innings\n"
   ]
  },
  {
   "cell_type": "code",
   "execution_count": 48,
   "metadata": {},
   "outputs": [],
   "source": [
    "\n",
    "\n",
    "# venue_innings_match = ball_matches_merge[ball_matches_merge.inning<=2].groupby(['venue', 'inning', 'match_id']).agg({'total_runs':'sum'}).sort_values(by=['venue'], ascending=False)\n",
    "\n",
    "\n",
    "\n",
    "# venue_innings_match.groupby(['venue']).agg({'total_runs':'max'}).reset_index()\n"
   ]
  },
  {
   "cell_type": "code",
   "execution_count": 47,
   "metadata": {},
   "outputs": [],
   "source": [
    "# venue_innings_match.reset_index()"
   ]
  },
  {
   "cell_type": "code",
   "execution_count": null,
   "metadata": {},
   "outputs": [],
   "source": []
  },
  {
   "cell_type": "code",
   "execution_count": 49,
   "metadata": {},
   "outputs": [],
   "source": [
    "# venue_innings_match_wicket = ball_matches_merge[ball_matches_merge.inning<=2].groupby(['venue', 'inning', 'match_id']).agg({'player_dismissed':'count'}).sort_values(by=['venue'], ascending=False)\n"
   ]
  },
  {
   "cell_type": "code",
   "execution_count": 51,
   "metadata": {},
   "outputs": [],
   "source": [
    "# venue_innings_match_wicket"
   ]
  },
  {
   "cell_type": "code",
   "execution_count": null,
   "metadata": {},
   "outputs": [],
   "source": []
  },
  {
   "cell_type": "code",
   "execution_count": null,
   "metadata": {},
   "outputs": [],
   "source": [
    "matches_df.groupby(['venue']).agg()"
   ]
  },
  {
   "cell_type": "code",
   "execution_count": null,
   "metadata": {},
   "outputs": [],
   "source": []
  },
  {
   "cell_type": "code",
   "execution_count": null,
   "metadata": {},
   "outputs": [],
   "source": []
  },
  {
   "cell_type": "code",
   "execution_count": null,
   "metadata": {},
   "outputs": [],
   "source": []
  },
  {
   "cell_type": "code",
   "execution_count": null,
   "metadata": {},
   "outputs": [],
   "source": []
  },
  {
   "cell_type": "code",
   "execution_count": null,
   "metadata": {},
   "outputs": [],
   "source": []
  },
  {
   "cell_type": "code",
   "execution_count": null,
   "metadata": {},
   "outputs": [],
   "source": []
  },
  {
   "cell_type": "code",
   "execution_count": null,
   "metadata": {},
   "outputs": [],
   "source": []
  },
  {
   "cell_type": "code",
   "execution_count": null,
   "metadata": {},
   "outputs": [],
   "source": []
  },
  {
   "cell_type": "code",
   "execution_count": null,
   "metadata": {},
   "outputs": [],
   "source": []
  },
  {
   "cell_type": "code",
   "execution_count": null,
   "metadata": {},
   "outputs": [],
   "source": []
  },
  {
   "cell_type": "code",
   "execution_count": null,
   "metadata": {},
   "outputs": [],
   "source": []
  },
  {
   "cell_type": "code",
   "execution_count": 113,
   "metadata": {},
   "outputs": [],
   "source": [
    "# Number of matches by venue\n",
    "\n",
    "# matches_df['venue'].value_counts()\n",
    "# # matches_df['venue'].value_counts().head()\n",
    "# # matches_df['venue'].value_counts().tail()"
   ]
  },
  {
   "cell_type": "code",
   "execution_count": 42,
   "metadata": {},
   "outputs": [],
   "source": [
    "# Team winning rate venue wise\n",
    "\n",
    "# matches_df.groupby(['venue','winner']).agg({'winner':'count'})\n",
    "\n",
    "# matches_df[matches_df.venue == 'MA Chidambaram Stadium, Chepauk'].groupby(['venue','winner']).agg({'winner':'count'})\n",
    "\n",
    "# matches_df.groupby(['venue','toss_winner']).agg({'toss_winner':'count'})    \n",
    "\n"
   ]
  },
  {
   "cell_type": "code",
   "execution_count": 46,
   "metadata": {},
   "outputs": [],
   "source": [
    "# matches_df[matches_df.venue == 'MA Chidambaram Stadium, Chepauk'].groupby(['venue','player_of_match']).agg({'player_of_match':'count'})\n",
    "    \n",
    "# matches_df[matches_df.venue == 'MA Chidambaram Stadium, Chepauk'].groupby(['venue','toss_winner']).agg({'toss_winner':'count'})    \n"
   ]
  },
  {
   "cell_type": "code",
   "execution_count": 47,
   "metadata": {},
   "outputs": [],
   "source": [
    "# DL applied venue wise\n",
    "\n",
    "# matches_df[matches_df.dl_applied == True].groupby(['venue']).agg({'dl_applied':'sum'}).sort_values(by='dl_applied', ascending=False)\n"
   ]
  },
  {
   "cell_type": "code",
   "execution_count": 48,
   "metadata": {},
   "outputs": [
    {
     "data": {
      "text/html": [
       "<div>\n",
       "<style scoped>\n",
       "    .dataframe tbody tr th:only-of-type {\n",
       "        vertical-align: middle;\n",
       "    }\n",
       "\n",
       "    .dataframe tbody tr th {\n",
       "        vertical-align: top;\n",
       "    }\n",
       "\n",
       "    .dataframe thead th {\n",
       "        text-align: right;\n",
       "    }\n",
       "</style>\n",
       "<table border=\"1\" class=\"dataframe\">\n",
       "  <thead>\n",
       "    <tr style=\"text-align: right;\">\n",
       "      <th></th>\n",
       "      <th>result</th>\n",
       "    </tr>\n",
       "    <tr>\n",
       "      <th>venue</th>\n",
       "      <th></th>\n",
       "    </tr>\n",
       "  </thead>\n",
       "  <tbody>\n",
       "    <tr>\n",
       "      <th>Feroz Shah Kotla</th>\n",
       "      <td>1</td>\n",
       "    </tr>\n",
       "    <tr>\n",
       "      <th>M Chinnaswamy Stadium</th>\n",
       "      <td>1</td>\n",
       "    </tr>\n",
       "    <tr>\n",
       "      <th>MA Chidambaram Stadium, Chepauk</th>\n",
       "      <td>1</td>\n",
       "    </tr>\n",
       "    <tr>\n",
       "      <th>Newlands</th>\n",
       "      <td>1</td>\n",
       "    </tr>\n",
       "    <tr>\n",
       "      <th>Rajiv Gandhi International Stadium, Uppal</th>\n",
       "      <td>1</td>\n",
       "    </tr>\n",
       "    <tr>\n",
       "      <th>Sardar Patel Stadium, Motera</th>\n",
       "      <td>1</td>\n",
       "    </tr>\n",
       "    <tr>\n",
       "      <th>Saurashtra Cricket Association Stadium</th>\n",
       "      <td>1</td>\n",
       "    </tr>\n",
       "    <tr>\n",
       "      <th>Sheikh Zayed Stadium</th>\n",
       "      <td>1</td>\n",
       "    </tr>\n",
       "    <tr>\n",
       "      <th>Wankhede Stadium</th>\n",
       "      <td>1</td>\n",
       "    </tr>\n",
       "  </tbody>\n",
       "</table>\n",
       "</div>"
      ],
      "text/plain": [
       "                                           result\n",
       "venue                                            \n",
       "Feroz Shah Kotla                                1\n",
       "M Chinnaswamy Stadium                           1\n",
       "MA Chidambaram Stadium, Chepauk                 1\n",
       "Newlands                                        1\n",
       "Rajiv Gandhi International Stadium, Uppal       1\n",
       "Sardar Patel Stadium, Motera                    1\n",
       "Saurashtra Cricket Association Stadium          1\n",
       "Sheikh Zayed Stadium                            1\n",
       "Wankhede Stadium                                1"
      ]
     },
     "execution_count": 48,
     "metadata": {},
     "output_type": "execute_result"
    }
   ],
   "source": [
    "# No of tie matches venue wise\n",
    "\n",
    "# matches_df[matches_df.result == 'tie'].groupby(['venue']).agg({'result':'count'}).sort_values(by='result', ascending=False)\n"
   ]
  },
  {
   "cell_type": "code",
   "execution_count": 50,
   "metadata": {},
   "outputs": [],
   "source": [
    "\n",
    "\n",
    "# ball_matches_merge=pd.merge(matches_df,deliveries_df,right_on='match_id',left_on='id')\n",
    "\n",
    "# No of sixes by venue\n",
    "\n",
    "# ball_matches_merge[ball_matches_merge['batsman_runs'] >=6].groupby('venue').venue.agg('count').sort_values(ascending=False)\n"
   ]
  },
  {
   "cell_type": "code",
   "execution_count": 55,
   "metadata": {},
   "outputs": [],
   "source": [
    "# Total run venue wise\n",
    "\n",
    "# ball_matches_merge.groupby(['venue']).agg({'total_runs':'sum'}) # need average First innings and second innings"
   ]
  },
  {
   "cell_type": "code",
   "execution_count": 59,
   "metadata": {},
   "outputs": [],
   "source": [
    "# Wickets by venue wise\n",
    "\n",
    "# ball_matches_merge.groupby(['venue', 'dismissal_kind']).agg({'dismissal_kind':'count'}).sort_values(by=['dismissal_kind'],ascending=False)\n",
    "\n",
    "\n"
   ]
  },
  {
   "cell_type": "code",
   "execution_count": 61,
   "metadata": {},
   "outputs": [],
   "source": [
    "# No of catches by fielder venue wise\n",
    "\n",
    "\n",
    "# ball_matches_merge[ball_matches_merge.dismissal_kind == 'caught'].groupby(['venue', 'fielder']).agg({'fielder':'count'}).sort_values(by=['fielder'],ascending=False)\n"
   ]
  },
  {
   "cell_type": "code",
   "execution_count": 175,
   "metadata": {},
   "outputs": [],
   "source": []
  },
  {
   "cell_type": "code",
   "execution_count": 63,
   "metadata": {},
   "outputs": [],
   "source": [
    "# Number of matches by year\n",
    "\n",
    "# matches_df.groupby(['season']).agg({'id':'count'})\n",
    "\n",
    "\n"
   ]
  },
  {
   "cell_type": "code",
   "execution_count": 65,
   "metadata": {},
   "outputs": [],
   "source": [
    "# matches_df.iloc[matches_df['win_by_runs'].idxmax()][['city', 'date', 'team1', 'team2', 'toss_winner','winner','toss_decision','player_of_match', 'win_by_runs' ]]"
   ]
  },
  {
   "cell_type": "code",
   "execution_count": 66,
   "metadata": {},
   "outputs": [],
   "source": [
    "# matches_df.winner.value_counts()"
   ]
  },
  {
   "cell_type": "code",
   "execution_count": 36,
   "metadata": {},
   "outputs": [
    {
     "data": {
      "text/plain": [
       "CH Gayle          21\n",
       "AB de Villiers    20\n",
       "RG Sharma         17\n",
       "MS Dhoni          17\n",
       "DA Warner         17\n",
       "YK Pathan         16\n",
       "SR Watson         15\n",
       "SK Raina          14\n",
       "G Gambhir         13\n",
       "MEK Hussey        12\n",
       "V Kohli           12\n",
       "AM Rahane         12\n",
       "V Sehwag          11\n",
       "A Mishra          11\n",
       "DR Smith          11\n",
       "AD Russell        11\n",
       "KA Pollard        10\n",
       "JH Kallis         10\n",
       "Name: player_of_match, dtype: int64"
      ]
     },
     "execution_count": 36,
     "metadata": {},
     "output_type": "execute_result"
    }
   ],
   "source": [
    "matches_df.player_of_match.value_counts()[matches_df.player_of_match.value_counts() >= 10]"
   ]
  },
  {
   "cell_type": "code",
   "execution_count": null,
   "metadata": {},
   "outputs": [],
   "source": []
  },
  {
   "cell_type": "code",
   "execution_count": null,
   "metadata": {},
   "outputs": [],
   "source": []
  },
  {
   "cell_type": "code",
   "execution_count": null,
   "metadata": {},
   "outputs": [],
   "source": []
  },
  {
   "cell_type": "code",
   "execution_count": 2,
   "metadata": {},
   "outputs": [
    {
     "name": "stdout",
     "output_type": "stream",
     "text": [
      "60\n"
     ]
    }
   ],
   "source": [
    "print(pd.get_option(\"display.max_rows\"))"
   ]
  },
  {
   "cell_type": "code",
   "execution_count": null,
   "metadata": {},
   "outputs": [],
   "source": []
  },
  {
   "cell_type": "code",
   "execution_count": null,
   "metadata": {},
   "outputs": [],
   "source": []
  }
 ],
 "metadata": {
  "kernelspec": {
   "display_name": "Python 3",
   "language": "python",
   "name": "python3"
  },
  "language_info": {
   "codemirror_mode": {
    "name": "ipython",
    "version": 3
   },
   "file_extension": ".py",
   "mimetype": "text/x-python",
   "name": "python",
   "nbconvert_exporter": "python",
   "pygments_lexer": "ipython3",
   "version": "3.7.1"
  }
 },
 "nbformat": 4,
 "nbformat_minor": 2
}
