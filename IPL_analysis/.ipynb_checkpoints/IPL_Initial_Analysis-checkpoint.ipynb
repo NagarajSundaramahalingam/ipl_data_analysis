{
 "cells": [
  {
   "cell_type": "code",
   "execution_count": 148,
   "metadata": {},
   "outputs": [],
   "source": [
    "import pandas as pd\n",
    "import numpy as np"
   ]
  },
  {
   "cell_type": "code",
   "execution_count": 149,
   "metadata": {},
   "outputs": [],
   "source": [
    "# Reading deliveries file.\n",
    "\n",
    "deliveries_df = pd.read_csv(\"data/deliveries.csv\")\n",
    "matches_df = pd.read_csv(\"data/matches.csv\")"
   ]
  },
  {
   "cell_type": "code",
   "execution_count": 151,
   "metadata": {},
   "outputs": [],
   "source": [
    "# First 5 rows\n",
    "\n",
    "# deliveries_df.head()\n",
    "# matches_df.head()"
   ]
  },
  {
   "cell_type": "code",
   "execution_count": 24,
   "metadata": {},
   "outputs": [],
   "source": [
    "# Statistics describe of dataframe\n",
    "\n",
    "# deliveries_df.describe()\n",
    "# matches_df.describe()"
   ]
  },
  {
   "cell_type": "code",
   "execution_count": 36,
   "metadata": {},
   "outputs": [],
   "source": [
    "# dtypes \n",
    "\n",
    "# deliveries_df.dtypes\n",
    "# matches_df.dtypes\n",
    "# matches_df.columns"
   ]
  },
  {
   "cell_type": "code",
   "execution_count": 38,
   "metadata": {
    "scrolled": false
   },
   "outputs": [],
   "source": [
    "# info of a dataframe\n",
    "\n",
    "# deliveries_df.info\n",
    "# deliveries_df.info(verbose=False)\n",
    "# deliveries_df.info()\n",
    "# deliveries_df.info(memory_usage ='deep')\n",
    "# matches_df.info(memory_usage ='deep')\n",
    "# Category type - Advance concept."
   ]
  },
  {
   "cell_type": "code",
   "execution_count": 70,
   "metadata": {},
   "outputs": [],
   "source": [
    "# unique teams\n",
    "\n",
    "# unique_teams = matches_df.team1.unique()\n",
    "# print(np.sort(unique_teams))\n",
    "# print(len(unique_teams))\n",
    "\n",
    "\n",
    "# current_season_teams = matches_df[matches_df.season == 2019].team1.unique()\n",
    "# print(np.sort(current_season_teams))\n",
    "# print(len(current_season_teams))\n"
   ]
  },
  {
   "cell_type": "code",
   "execution_count": 152,
   "metadata": {},
   "outputs": [],
   "source": [
    "# sort name function\n",
    "\n",
    "def alias(team):\n",
    "    if team == 'Chennai Super Kings':\n",
    "        return 'CSK'\n",
    "    elif team == 'Deccan Chargers' or team == 'Sunrisers Hyderabad':\n",
    "        return 'SRH'\n",
    "    elif team == 'Delhi Capitals' or team == 'Delhi Daredevils':\n",
    "        return 'DC'\n",
    "    elif team == 'Gujarat Lions':\n",
    "        return 'GL'\n",
    "    elif team == 'Kings XI Punjab':\n",
    "        return 'KXIP'\n",
    "    elif team == 'Kochi Tuskers Kerala':\n",
    "        return 'KTK'\n",
    "    elif team == 'Kolkata Knight Riders':\n",
    "        return 'KKR'\n",
    "    elif team == 'Mumbai Indians':\n",
    "        return 'MI'\n",
    "    elif team == 'Pune Warriors' or team == 'Rising Pune Supergiants'or team == 'Rising Pune Supergiant':\n",
    "        return 'RPSG'\n",
    "    elif team == 'Rajasthan Royals':\n",
    "        return 'RR'\n",
    "    elif team == 'Royal Challengers Bangalore':\n",
    "        return 'RCB'\n"
   ]
  },
  {
   "cell_type": "code",
   "execution_count": 153,
   "metadata": {},
   "outputs": [],
   "source": [
    "\n",
    "matches_df['team2']=matches_df['team2'].apply(alias)\n",
    "matches_df['team1']=matches_df['team1'].apply(alias)\n",
    "matches_df['winner']=list(map(alias,matches_df['winner']))\n",
    "matches_df['toss_winner']=list(map(alias,matches_df['toss_winner']))\n",
    "\n",
    "deliveries_df['batting_team'] = deliveries_df['batting_team'].apply(alias)\n",
    "deliveries_df['bowling_team']=list(map(alias, deliveries_df['bowling_team']))"
   ]
  },
  {
   "cell_type": "code",
   "execution_count": 68,
   "metadata": {},
   "outputs": [],
   "source": [
    "# deliveries_df\n",
    "# matches_df"
   ]
  },
  {
   "cell_type": "code",
   "execution_count": 108,
   "metadata": {},
   "outputs": [],
   "source": [
    "# # Match analysis.\n",
    "\n",
    "# print(f'No of mathces played - {matches_df.id.count()}')\n",
    "# print('Mathch results - ')\n",
    "# print(matches_df.result.value_counts())"
   ]
  },
  {
   "cell_type": "code",
   "execution_count": 109,
   "metadata": {},
   "outputs": [],
   "source": [
    "# print(f\"Total venues - {matches_df['venue'].nunique()}\")\n",
    "# np.sort(matches_df['venue'].unique())"
   ]
  },
  {
   "cell_type": "code",
   "execution_count": 155,
   "metadata": {},
   "outputs": [],
   "source": [
    "# # Feroz Shah Kotla Ground == Feroz Shah Kotla\n",
    "\n",
    "# # IS Bindra Stadium = 'Punjab Cricket Association IS Bindra Stadium, Mohali', = 'Punjab Cricket Association Stadium, Mohali',\n",
    "\n",
    "# # 'M Chinnaswamy Stadium' ==    'M. Chinnaswamy Stadium',\n",
    "# # 'M. A. Chidambaram Stadium', == 'MA Chidambaram Stadium, Chepauk',\n",
    "\n",
    "# # 'Rajiv Gandhi International Stadium, Uppal', 'Rajiv Gandhi Intl. Cricket Stadium',\n",
    "\n",
    "\n",
    "# matches_df['venue']=matches_df['venue'].str.replace('Feroz Shah Kotla Ground','Feroz Shah Kotla')\n",
    "# matches_df['venue']=matches_df['venue'].str.replace('M. Chinnaswamy Stadium', 'M Chinnaswamy Stadium')\n",
    "# matches_df['venue']=matches_df['venue'].str.replace('M. A. Chidambaram Stadium', 'MA Chidambaram Stadium, Chepauk')\n",
    "# matches_df['venue']=matches_df['venue'].str.replace('Rajiv Gandhi Intl. Cricket Stadium', \n",
    "#                                                     'Rajiv Gandhi International Stadium, Uppal')\n",
    "# matches_df['venue']=matches_df['venue'].str.replace('Punjab Cricket Association IS Bindra Stadium, Mohali', \n",
    "#                                 'Punjab Cricket Association Stadium, Mohali')\n",
    "\n",
    "# matches_df['venue']=matches_df['venue'].str.replace('IS Bindra Stadium', \n",
    "#                                 'Punjab Cricket Association Stadium, Mohali')\n",
    "\n",
    "\n",
    "# print(f\"Total venues - {matches_df['venue'].nunique()}\")\n",
    "# np.sort(matches_df['venue'].unique())"
   ]
  },
  {
   "cell_type": "code",
   "execution_count": 113,
   "metadata": {},
   "outputs": [],
   "source": [
    "# Number of matches by venue\n",
    "\n",
    "# matches_df['venue'].value_counts()\n",
    "# # matches_df['venue'].value_counts().head()\n",
    "# # matches_df['venue'].value_counts().tail()"
   ]
  },
  {
   "cell_type": "code",
   "execution_count": 176,
   "metadata": {},
   "outputs": [],
   "source": [
    "# Team winning rate venue wise\n",
    "\n",
    "# matches_df.groupby(['venue','winner']).agg({'winner':'count'})\n",
    "\n",
    "# matches_df[matches_df.venue == 'MA Chidambaram Stadium, Chepauk'].groupby(['venue','winner']).agg({'winner':'count'})\n",
    "\n",
    "# matches_df.groupby(['venue','toss_winner']).agg({'toss_winner':'count'})    \n",
    "\n"
   ]
  },
  {
   "cell_type": "code",
   "execution_count": 177,
   "metadata": {},
   "outputs": [],
   "source": [
    "# matches_df[matches_df.venue == 'MA Chidambaram Stadium, Chepauk'].groupby(['venue','player_of_match']).agg({'player_of_match':'count'})\n",
    "    \n",
    "# matches_df[matches_df.venue == 'MA Chidambaram Stadium, Chepauk'].groupby(['venue','toss_winner']).agg({'toss_winner':'count'})    \n"
   ]
  },
  {
   "cell_type": "code",
   "execution_count": 193,
   "metadata": {},
   "outputs": [],
   "source": [
    "# DL applied venue wise\n",
    "\n",
    "# matches_df[matches_df.dl_applied == True].groupby(['venue']).agg({'dl_applied':'sum'}).sort_values(by='dl_applied', ascending=False)\n"
   ]
  },
  {
   "cell_type": "code",
   "execution_count": 192,
   "metadata": {},
   "outputs": [],
   "source": [
    "# No of tie matches venue wise\n",
    "\n",
    "# matches_df[matches_df.result == 'tie'].groupby(['venue']).agg({'result':'count'}).sort_values(by='result', ascending=False)\n"
   ]
  },
  {
   "cell_type": "code",
   "execution_count": 195,
   "metadata": {},
   "outputs": [],
   "source": [
    "\n",
    "\n",
    "# ball_matches_merge=pd.merge(matches_df,deliveries_df,right_on='match_id',left_on='id')\n",
    "\n",
    "# No of sixes by venue\n",
    "\n",
    "# ball_matches_merge[ball_matches_merge['batsman_runs'] >=6].groupby('venue').venue.agg('count').sort_values(ascending=False)\n"
   ]
  },
  {
   "cell_type": "code",
   "execution_count": 197,
   "metadata": {},
   "outputs": [],
   "source": [
    "# Total run venue wise\n",
    "\n",
    "# ball_matches_merge.groupby(['venue']).agg({'total_runs':'sum'})"
   ]
  },
  {
   "cell_type": "code",
   "execution_count": 205,
   "metadata": {},
   "outputs": [],
   "source": [
    "# Wickets by venue wise\n",
    "\n",
    "# ball_matches_merge.groupby(['venue', 'dismissal_kind']).agg({'dismissal_kind':'count'}).sort_values(by=['dismissal_kind'],ascending=False)\n",
    "\n",
    "\n"
   ]
  },
  {
   "cell_type": "code",
   "execution_count": 1,
   "metadata": {},
   "outputs": [],
   "source": [
    "# No of catches by fielder venue wise\n",
    "\n",
    "\n",
    "# ball_matches_merge[ball_matches_merge.dismissal_kind == 'caught'].groupby(['venue', 'fielder']).agg({'fielder':'count'}).sort_values(by=['fielder'],ascending=False)\n"
   ]
  },
  {
   "cell_type": "code",
   "execution_count": 175,
   "metadata": {},
   "outputs": [],
   "source": []
  },
  {
   "cell_type": "code",
   "execution_count": 158,
   "metadata": {},
   "outputs": [],
   "source": []
  },
  {
   "cell_type": "code",
   "execution_count": 160,
   "metadata": {},
   "outputs": [],
   "source": []
  },
  {
   "cell_type": "code",
   "execution_count": 162,
   "metadata": {},
   "outputs": [],
   "source": [
    "# ball_matches_merge.groupby(['venue','season','dismissal_kind']).agg({'dismissal_kind':'count'}).sort_values(by=['season'],ascending=False)"
   ]
  },
  {
   "cell_type": "code",
   "execution_count": 165,
   "metadata": {},
   "outputs": [],
   "source": [
    "# ball_matches_merge.groupby(['venue','dismissal_kind']).agg({'dismissal_kind':'count'}).sort_values(by=['venue'],ascending=False)"
   ]
  },
  {
   "cell_type": "code",
   "execution_count": null,
   "metadata": {},
   "outputs": [],
   "source": []
  }
 ],
 "metadata": {
  "kernelspec": {
   "display_name": "Python 3",
   "language": "python",
   "name": "python3"
  },
  "language_info": {
   "codemirror_mode": {
    "name": "ipython",
    "version": 3
   },
   "file_extension": ".py",
   "mimetype": "text/x-python",
   "name": "python",
   "nbconvert_exporter": "python",
   "pygments_lexer": "ipython3",
   "version": "3.7.1"
  }
 },
 "nbformat": 4,
 "nbformat_minor": 2
}
