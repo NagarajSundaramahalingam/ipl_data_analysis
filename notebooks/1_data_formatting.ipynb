{
  "nbformat": 4,
  "nbformat_minor": 0,
  "metadata": {
    "colab": {
      "name": "1_data_formatting.ipynb",
      "provenance": [],
      "collapsed_sections": []
    },
    "kernelspec": {
      "display_name": "Python 3",
      "language": "python",
      "name": "python3"
    },
    "language_info": {
      "codemirror_mode": {
        "name": "ipython",
        "version": 3
      },
      "file_extension": ".py",
      "mimetype": "text/x-python",
      "name": "python",
      "nbconvert_exporter": "python",
      "pygments_lexer": "ipython3",
      "version": "3.7.4"
    }
  },
  "cells": [
    {
      "cell_type": "markdown",
      "metadata": {
        "colab_type": "text",
        "id": "fRxoTjeu_UWq"
      },
      "source": [
        "## IPL data analysis\n",
        "\n",
        "- Format the deliveries file and matches file\n",
        "\n",
        "- Merge deliveries and matches file"
      ]
    },
    {
      "cell_type": "code",
      "metadata": {
        "colab_type": "code",
        "id": "uXEtGKPz_JFy",
        "colab": {}
      },
      "source": [
        "# Import libraries\n",
        "\n",
        "import pandas as pd"
      ],
      "execution_count": 0,
      "outputs": []
    },
    {
      "cell_type": "code",
      "metadata": {
        "colab_type": "code",
        "id": "DgLiodNA_gnv",
        "outputId": "f28d1ba0-4657-45d3-e879-4d6408e6d402",
        "colab": {
          "base_uri": "https://localhost:8080/",
          "height": 34
        }
      },
      "source": [
        "# Libraries version\n",
        "\n",
        "print(f'Pandas Version - {pd.__version__}')"
      ],
      "execution_count": 52,
      "outputs": [
        {
          "output_type": "stream",
          "text": [
            "Pandas Version - 1.0.3\n"
          ],
          "name": "stdout"
        }
      ]
    },
    {
      "cell_type": "code",
      "metadata": {
        "colab_type": "code",
        "id": "6upYyEp0_kph",
        "colab": {}
      },
      "source": [
        "# Pandas display options\n",
        "\n",
        "pd.options.display.float_format = '{:.2f}'.format\n",
        "pd.set_option('display.max_columns', None)\n",
        "pd.set_option('display.max_colwidth', None)\n",
        "pd.set_option('display.max_rows', None)"
      ],
      "execution_count": 0,
      "outputs": []
    },
    {
      "cell_type": "code",
      "metadata": {
        "colab_type": "code",
        "id": "nNNTGHF6_mT1",
        "colab": {}
      },
      "source": [
        "# Read file\n",
        "\n",
        "file_path = 'https://raw.githubusercontent.com/nagaraj-datascientist/ipl_data_analysis/master/data/'\n",
        "\n",
        "deliveries_df = pd.read_csv(f'{file_path}deliveries.csv')\n",
        "matches_df = pd.read_csv(f'{file_path}matches.csv')"
      ],
      "execution_count": 0,
      "outputs": []
    },
    {
      "cell_type": "code",
      "metadata": {
        "colab_type": "code",
        "id": "I45QNmgM_qRZ",
        "outputId": "c2ae5559-210d-4fd1-d809-62c7f97e24f3",
        "colab": {
          "base_uri": "https://localhost:8080/",
          "height": 394
        }
      },
      "source": [
        "# Glimpse of deliveries data\n",
        "\n",
        "deliveries_df.head()"
      ],
      "execution_count": 55,
      "outputs": [
        {
          "output_type": "execute_result",
          "data": {
            "text/html": [
              "<div>\n",
              "<style scoped>\n",
              "    .dataframe tbody tr th:only-of-type {\n",
              "        vertical-align: middle;\n",
              "    }\n",
              "\n",
              "    .dataframe tbody tr th {\n",
              "        vertical-align: top;\n",
              "    }\n",
              "\n",
              "    .dataframe thead th {\n",
              "        text-align: right;\n",
              "    }\n",
              "</style>\n",
              "<table border=\"1\" class=\"dataframe\">\n",
              "  <thead>\n",
              "    <tr style=\"text-align: right;\">\n",
              "      <th></th>\n",
              "      <th>match_id</th>\n",
              "      <th>inning</th>\n",
              "      <th>batting_team</th>\n",
              "      <th>bowling_team</th>\n",
              "      <th>over</th>\n",
              "      <th>ball</th>\n",
              "      <th>batsman</th>\n",
              "      <th>non_striker</th>\n",
              "      <th>bowler</th>\n",
              "      <th>is_super_over</th>\n",
              "      <th>wide_runs</th>\n",
              "      <th>bye_runs</th>\n",
              "      <th>legbye_runs</th>\n",
              "      <th>noball_runs</th>\n",
              "      <th>penalty_runs</th>\n",
              "      <th>batsman_runs</th>\n",
              "      <th>extra_runs</th>\n",
              "      <th>total_runs</th>\n",
              "      <th>player_dismissed</th>\n",
              "      <th>dismissal_kind</th>\n",
              "      <th>fielder</th>\n",
              "    </tr>\n",
              "  </thead>\n",
              "  <tbody>\n",
              "    <tr>\n",
              "      <th>0</th>\n",
              "      <td>1</td>\n",
              "      <td>1</td>\n",
              "      <td>Sunrisers Hyderabad</td>\n",
              "      <td>Royal Challengers Bangalore</td>\n",
              "      <td>1</td>\n",
              "      <td>1</td>\n",
              "      <td>DA Warner</td>\n",
              "      <td>S Dhawan</td>\n",
              "      <td>TS Mills</td>\n",
              "      <td>0</td>\n",
              "      <td>0</td>\n",
              "      <td>0</td>\n",
              "      <td>0</td>\n",
              "      <td>0</td>\n",
              "      <td>0</td>\n",
              "      <td>0</td>\n",
              "      <td>0</td>\n",
              "      <td>0</td>\n",
              "      <td>NaN</td>\n",
              "      <td>NaN</td>\n",
              "      <td>NaN</td>\n",
              "    </tr>\n",
              "    <tr>\n",
              "      <th>1</th>\n",
              "      <td>1</td>\n",
              "      <td>1</td>\n",
              "      <td>Sunrisers Hyderabad</td>\n",
              "      <td>Royal Challengers Bangalore</td>\n",
              "      <td>1</td>\n",
              "      <td>2</td>\n",
              "      <td>DA Warner</td>\n",
              "      <td>S Dhawan</td>\n",
              "      <td>TS Mills</td>\n",
              "      <td>0</td>\n",
              "      <td>0</td>\n",
              "      <td>0</td>\n",
              "      <td>0</td>\n",
              "      <td>0</td>\n",
              "      <td>0</td>\n",
              "      <td>0</td>\n",
              "      <td>0</td>\n",
              "      <td>0</td>\n",
              "      <td>NaN</td>\n",
              "      <td>NaN</td>\n",
              "      <td>NaN</td>\n",
              "    </tr>\n",
              "    <tr>\n",
              "      <th>2</th>\n",
              "      <td>1</td>\n",
              "      <td>1</td>\n",
              "      <td>Sunrisers Hyderabad</td>\n",
              "      <td>Royal Challengers Bangalore</td>\n",
              "      <td>1</td>\n",
              "      <td>3</td>\n",
              "      <td>DA Warner</td>\n",
              "      <td>S Dhawan</td>\n",
              "      <td>TS Mills</td>\n",
              "      <td>0</td>\n",
              "      <td>0</td>\n",
              "      <td>0</td>\n",
              "      <td>0</td>\n",
              "      <td>0</td>\n",
              "      <td>0</td>\n",
              "      <td>4</td>\n",
              "      <td>0</td>\n",
              "      <td>4</td>\n",
              "      <td>NaN</td>\n",
              "      <td>NaN</td>\n",
              "      <td>NaN</td>\n",
              "    </tr>\n",
              "    <tr>\n",
              "      <th>3</th>\n",
              "      <td>1</td>\n",
              "      <td>1</td>\n",
              "      <td>Sunrisers Hyderabad</td>\n",
              "      <td>Royal Challengers Bangalore</td>\n",
              "      <td>1</td>\n",
              "      <td>4</td>\n",
              "      <td>DA Warner</td>\n",
              "      <td>S Dhawan</td>\n",
              "      <td>TS Mills</td>\n",
              "      <td>0</td>\n",
              "      <td>0</td>\n",
              "      <td>0</td>\n",
              "      <td>0</td>\n",
              "      <td>0</td>\n",
              "      <td>0</td>\n",
              "      <td>0</td>\n",
              "      <td>0</td>\n",
              "      <td>0</td>\n",
              "      <td>NaN</td>\n",
              "      <td>NaN</td>\n",
              "      <td>NaN</td>\n",
              "    </tr>\n",
              "    <tr>\n",
              "      <th>4</th>\n",
              "      <td>1</td>\n",
              "      <td>1</td>\n",
              "      <td>Sunrisers Hyderabad</td>\n",
              "      <td>Royal Challengers Bangalore</td>\n",
              "      <td>1</td>\n",
              "      <td>5</td>\n",
              "      <td>DA Warner</td>\n",
              "      <td>S Dhawan</td>\n",
              "      <td>TS Mills</td>\n",
              "      <td>0</td>\n",
              "      <td>2</td>\n",
              "      <td>0</td>\n",
              "      <td>0</td>\n",
              "      <td>0</td>\n",
              "      <td>0</td>\n",
              "      <td>0</td>\n",
              "      <td>2</td>\n",
              "      <td>2</td>\n",
              "      <td>NaN</td>\n",
              "      <td>NaN</td>\n",
              "      <td>NaN</td>\n",
              "    </tr>\n",
              "  </tbody>\n",
              "</table>\n",
              "</div>"
            ],
            "text/plain": [
              "   match_id  inning         batting_team                 bowling_team  over  \\\n",
              "0         1       1  Sunrisers Hyderabad  Royal Challengers Bangalore     1   \n",
              "1         1       1  Sunrisers Hyderabad  Royal Challengers Bangalore     1   \n",
              "2         1       1  Sunrisers Hyderabad  Royal Challengers Bangalore     1   \n",
              "3         1       1  Sunrisers Hyderabad  Royal Challengers Bangalore     1   \n",
              "4         1       1  Sunrisers Hyderabad  Royal Challengers Bangalore     1   \n",
              "\n",
              "   ball    batsman non_striker    bowler  is_super_over  wide_runs  bye_runs  \\\n",
              "0     1  DA Warner    S Dhawan  TS Mills              0          0         0   \n",
              "1     2  DA Warner    S Dhawan  TS Mills              0          0         0   \n",
              "2     3  DA Warner    S Dhawan  TS Mills              0          0         0   \n",
              "3     4  DA Warner    S Dhawan  TS Mills              0          0         0   \n",
              "4     5  DA Warner    S Dhawan  TS Mills              0          2         0   \n",
              "\n",
              "   legbye_runs  noball_runs  penalty_runs  batsman_runs  extra_runs  \\\n",
              "0            0            0             0             0           0   \n",
              "1            0            0             0             0           0   \n",
              "2            0            0             0             4           0   \n",
              "3            0            0             0             0           0   \n",
              "4            0            0             0             0           2   \n",
              "\n",
              "   total_runs player_dismissed dismissal_kind fielder  \n",
              "0           0              NaN            NaN     NaN  \n",
              "1           0              NaN            NaN     NaN  \n",
              "2           4              NaN            NaN     NaN  \n",
              "3           0              NaN            NaN     NaN  \n",
              "4           2              NaN            NaN     NaN  "
            ]
          },
          "metadata": {
            "tags": []
          },
          "execution_count": 55
        }
      ]
    },
    {
      "cell_type": "code",
      "metadata": {
        "colab_type": "code",
        "id": "RLa-IX6B_s2Y",
        "outputId": "1f9855b8-6f4e-4f08-8477-d3611ee45d89",
        "colab": {
          "base_uri": "https://localhost:8080/",
          "height": 445
        }
      },
      "source": [
        "# Glimpse of matches data\n",
        "\n",
        "matches_df.head()"
      ],
      "execution_count": 56,
      "outputs": [
        {
          "output_type": "execute_result",
          "data": {
            "text/html": [
              "<div>\n",
              "<style scoped>\n",
              "    .dataframe tbody tr th:only-of-type {\n",
              "        vertical-align: middle;\n",
              "    }\n",
              "\n",
              "    .dataframe tbody tr th {\n",
              "        vertical-align: top;\n",
              "    }\n",
              "\n",
              "    .dataframe thead th {\n",
              "        text-align: right;\n",
              "    }\n",
              "</style>\n",
              "<table border=\"1\" class=\"dataframe\">\n",
              "  <thead>\n",
              "    <tr style=\"text-align: right;\">\n",
              "      <th></th>\n",
              "      <th>id</th>\n",
              "      <th>season</th>\n",
              "      <th>city</th>\n",
              "      <th>date</th>\n",
              "      <th>team1</th>\n",
              "      <th>team2</th>\n",
              "      <th>toss_winner</th>\n",
              "      <th>toss_decision</th>\n",
              "      <th>result</th>\n",
              "      <th>dl_applied</th>\n",
              "      <th>winner</th>\n",
              "      <th>win_by_runs</th>\n",
              "      <th>win_by_wickets</th>\n",
              "      <th>player_of_match</th>\n",
              "      <th>venue</th>\n",
              "      <th>umpire1</th>\n",
              "      <th>umpire2</th>\n",
              "      <th>umpire3</th>\n",
              "    </tr>\n",
              "  </thead>\n",
              "  <tbody>\n",
              "    <tr>\n",
              "      <th>0</th>\n",
              "      <td>1</td>\n",
              "      <td>2017</td>\n",
              "      <td>Hyderabad</td>\n",
              "      <td>2017-04-05</td>\n",
              "      <td>Sunrisers Hyderabad</td>\n",
              "      <td>Royal Challengers Bangalore</td>\n",
              "      <td>Royal Challengers Bangalore</td>\n",
              "      <td>field</td>\n",
              "      <td>normal</td>\n",
              "      <td>0</td>\n",
              "      <td>Sunrisers Hyderabad</td>\n",
              "      <td>35</td>\n",
              "      <td>0</td>\n",
              "      <td>Yuvraj Singh</td>\n",
              "      <td>Rajiv Gandhi International Stadium, Uppal</td>\n",
              "      <td>AY Dandekar</td>\n",
              "      <td>NJ Llong</td>\n",
              "      <td>NaN</td>\n",
              "    </tr>\n",
              "    <tr>\n",
              "      <th>1</th>\n",
              "      <td>2</td>\n",
              "      <td>2017</td>\n",
              "      <td>Pune</td>\n",
              "      <td>2017-04-06</td>\n",
              "      <td>Mumbai Indians</td>\n",
              "      <td>Rising Pune Supergiant</td>\n",
              "      <td>Rising Pune Supergiant</td>\n",
              "      <td>field</td>\n",
              "      <td>normal</td>\n",
              "      <td>0</td>\n",
              "      <td>Rising Pune Supergiant</td>\n",
              "      <td>0</td>\n",
              "      <td>7</td>\n",
              "      <td>SPD Smith</td>\n",
              "      <td>Maharashtra Cricket Association Stadium</td>\n",
              "      <td>A Nand Kishore</td>\n",
              "      <td>S Ravi</td>\n",
              "      <td>NaN</td>\n",
              "    </tr>\n",
              "    <tr>\n",
              "      <th>2</th>\n",
              "      <td>3</td>\n",
              "      <td>2017</td>\n",
              "      <td>Rajkot</td>\n",
              "      <td>2017-04-07</td>\n",
              "      <td>Gujarat Lions</td>\n",
              "      <td>Kolkata Knight Riders</td>\n",
              "      <td>Kolkata Knight Riders</td>\n",
              "      <td>field</td>\n",
              "      <td>normal</td>\n",
              "      <td>0</td>\n",
              "      <td>Kolkata Knight Riders</td>\n",
              "      <td>0</td>\n",
              "      <td>10</td>\n",
              "      <td>CA Lynn</td>\n",
              "      <td>Saurashtra Cricket Association Stadium</td>\n",
              "      <td>Nitin Menon</td>\n",
              "      <td>CK Nandan</td>\n",
              "      <td>NaN</td>\n",
              "    </tr>\n",
              "    <tr>\n",
              "      <th>3</th>\n",
              "      <td>4</td>\n",
              "      <td>2017</td>\n",
              "      <td>Indore</td>\n",
              "      <td>2017-04-08</td>\n",
              "      <td>Rising Pune Supergiant</td>\n",
              "      <td>Kings XI Punjab</td>\n",
              "      <td>Kings XI Punjab</td>\n",
              "      <td>field</td>\n",
              "      <td>normal</td>\n",
              "      <td>0</td>\n",
              "      <td>Kings XI Punjab</td>\n",
              "      <td>0</td>\n",
              "      <td>6</td>\n",
              "      <td>GJ Maxwell</td>\n",
              "      <td>Holkar Cricket Stadium</td>\n",
              "      <td>AK Chaudhary</td>\n",
              "      <td>C Shamshuddin</td>\n",
              "      <td>NaN</td>\n",
              "    </tr>\n",
              "    <tr>\n",
              "      <th>4</th>\n",
              "      <td>5</td>\n",
              "      <td>2017</td>\n",
              "      <td>Bangalore</td>\n",
              "      <td>2017-04-08</td>\n",
              "      <td>Royal Challengers Bangalore</td>\n",
              "      <td>Delhi Daredevils</td>\n",
              "      <td>Royal Challengers Bangalore</td>\n",
              "      <td>bat</td>\n",
              "      <td>normal</td>\n",
              "      <td>0</td>\n",
              "      <td>Royal Challengers Bangalore</td>\n",
              "      <td>15</td>\n",
              "      <td>0</td>\n",
              "      <td>KM Jadhav</td>\n",
              "      <td>M Chinnaswamy Stadium</td>\n",
              "      <td>NaN</td>\n",
              "      <td>NaN</td>\n",
              "      <td>NaN</td>\n",
              "    </tr>\n",
              "  </tbody>\n",
              "</table>\n",
              "</div>"
            ],
            "text/plain": [
              "   id  season       city        date                        team1  \\\n",
              "0   1    2017  Hyderabad  2017-04-05          Sunrisers Hyderabad   \n",
              "1   2    2017       Pune  2017-04-06               Mumbai Indians   \n",
              "2   3    2017     Rajkot  2017-04-07                Gujarat Lions   \n",
              "3   4    2017     Indore  2017-04-08       Rising Pune Supergiant   \n",
              "4   5    2017  Bangalore  2017-04-08  Royal Challengers Bangalore   \n",
              "\n",
              "                         team2                  toss_winner toss_decision  \\\n",
              "0  Royal Challengers Bangalore  Royal Challengers Bangalore         field   \n",
              "1       Rising Pune Supergiant       Rising Pune Supergiant         field   \n",
              "2        Kolkata Knight Riders        Kolkata Knight Riders         field   \n",
              "3              Kings XI Punjab              Kings XI Punjab         field   \n",
              "4             Delhi Daredevils  Royal Challengers Bangalore           bat   \n",
              "\n",
              "   result  dl_applied                       winner  win_by_runs  \\\n",
              "0  normal           0          Sunrisers Hyderabad           35   \n",
              "1  normal           0       Rising Pune Supergiant            0   \n",
              "2  normal           0        Kolkata Knight Riders            0   \n",
              "3  normal           0              Kings XI Punjab            0   \n",
              "4  normal           0  Royal Challengers Bangalore           15   \n",
              "\n",
              "   win_by_wickets player_of_match                                      venue  \\\n",
              "0               0    Yuvraj Singh  Rajiv Gandhi International Stadium, Uppal   \n",
              "1               7       SPD Smith    Maharashtra Cricket Association Stadium   \n",
              "2              10         CA Lynn     Saurashtra Cricket Association Stadium   \n",
              "3               6      GJ Maxwell                     Holkar Cricket Stadium   \n",
              "4               0       KM Jadhav                      M Chinnaswamy Stadium   \n",
              "\n",
              "          umpire1        umpire2 umpire3  \n",
              "0     AY Dandekar       NJ Llong     NaN  \n",
              "1  A Nand Kishore         S Ravi     NaN  \n",
              "2     Nitin Menon      CK Nandan     NaN  \n",
              "3    AK Chaudhary  C Shamshuddin     NaN  \n",
              "4             NaN            NaN     NaN  "
            ]
          },
          "metadata": {
            "tags": []
          },
          "execution_count": 56
        }
      ]
    },
    {
      "cell_type": "code",
      "metadata": {
        "colab_type": "code",
        "id": "sNMWYYXY_vhk",
        "outputId": "4c0e1260-c683-48e1-dbe9-b5c45105ce3b",
        "colab": {
          "base_uri": "https://localhost:8080/",
          "height": 493
        }
      },
      "source": [
        "# Info of deliveries\n",
        "\n",
        "deliveries_df.info(memory_usage='deep')"
      ],
      "execution_count": 57,
      "outputs": [
        {
          "output_type": "stream",
          "text": [
            "<class 'pandas.core.frame.DataFrame'>\n",
            "RangeIndex: 179078 entries, 0 to 179077\n",
            "Data columns (total 21 columns):\n",
            " #   Column            Non-Null Count   Dtype \n",
            "---  ------            --------------   ----- \n",
            " 0   match_id          179078 non-null  int64 \n",
            " 1   inning            179078 non-null  int64 \n",
            " 2   batting_team      179078 non-null  object\n",
            " 3   bowling_team      179078 non-null  object\n",
            " 4   over              179078 non-null  int64 \n",
            " 5   ball              179078 non-null  int64 \n",
            " 6   batsman           179078 non-null  object\n",
            " 7   non_striker       179078 non-null  object\n",
            " 8   bowler            179078 non-null  object\n",
            " 9   is_super_over     179078 non-null  int64 \n",
            " 10  wide_runs         179078 non-null  int64 \n",
            " 11  bye_runs          179078 non-null  int64 \n",
            " 12  legbye_runs       179078 non-null  int64 \n",
            " 13  noball_runs       179078 non-null  int64 \n",
            " 14  penalty_runs      179078 non-null  int64 \n",
            " 15  batsman_runs      179078 non-null  int64 \n",
            " 16  extra_runs        179078 non-null  int64 \n",
            " 17  total_runs        179078 non-null  int64 \n",
            " 18  player_dismissed  8834 non-null    object\n",
            " 19  dismissal_kind    8834 non-null    object\n",
            " 20  fielder           6448 non-null    object\n",
            "dtypes: int64(13), object(8)\n",
            "memory usage: 94.5 MB\n"
          ],
          "name": "stdout"
        }
      ]
    },
    {
      "cell_type": "code",
      "metadata": {
        "colab_type": "code",
        "id": "FkrzV2Qn_xhm",
        "outputId": "b220f38e-97bb-4b88-8c10-82378596ca3c",
        "colab": {
          "base_uri": "https://localhost:8080/",
          "height": 442
        }
      },
      "source": [
        "# Info of matches\n",
        "\n",
        "matches_df.info(memory_usage='deep')"
      ],
      "execution_count": 58,
      "outputs": [
        {
          "output_type": "stream",
          "text": [
            "<class 'pandas.core.frame.DataFrame'>\n",
            "RangeIndex: 756 entries, 0 to 755\n",
            "Data columns (total 18 columns):\n",
            " #   Column           Non-Null Count  Dtype \n",
            "---  ------           --------------  ----- \n",
            " 0   id               756 non-null    int64 \n",
            " 1   season           756 non-null    int64 \n",
            " 2   city             749 non-null    object\n",
            " 3   date             756 non-null    object\n",
            " 4   team1            756 non-null    object\n",
            " 5   team2            756 non-null    object\n",
            " 6   toss_winner      756 non-null    object\n",
            " 7   toss_decision    756 non-null    object\n",
            " 8   result           756 non-null    object\n",
            " 9   dl_applied       756 non-null    int64 \n",
            " 10  winner           752 non-null    object\n",
            " 11  win_by_runs      756 non-null    int64 \n",
            " 12  win_by_wickets   756 non-null    int64 \n",
            " 13  player_of_match  752 non-null    object\n",
            " 14  venue            756 non-null    object\n",
            " 15  umpire1          754 non-null    object\n",
            " 16  umpire2          754 non-null    object\n",
            " 17  umpire3          119 non-null    object\n",
            "dtypes: int64(5), object(13)\n",
            "memory usage: 676.0 KB\n"
          ],
          "name": "stdout"
        }
      ]
    },
    {
      "cell_type": "markdown",
      "metadata": {
        "colab_type": "text",
        "id": "8HZGSXyj_3ge"
      },
      "source": [
        "### Format Matches file\n",
        "\n",
        "Memory usage of matches file is 676 kb.\n",
        "\n",
        "Assign alias name to the ipl teams and change the datatype.\n"
      ]
    },
    {
      "cell_type": "markdown",
      "metadata": {
        "colab_type": "text",
        "id": "J-VHZNfBBPRd"
      },
      "source": [
        "#### Team name alias\n",
        "\n",
        "- Assign same name if one team shares 2 names"
      ]
    },
    {
      "cell_type": "code",
      "metadata": {
        "colab_type": "code",
        "id": "bAbKB0NG_2V4",
        "outputId": "e2fad8e4-3432-4f41-ff2e-07fc922b754a",
        "colab": {
          "base_uri": "https://localhost:8080/",
          "height": 119
        }
      },
      "source": [
        "# Unique team name\n",
        "\n",
        "matches_df['team1'].unique()"
      ],
      "execution_count": 59,
      "outputs": [
        {
          "output_type": "execute_result",
          "data": {
            "text/plain": [
              "array(['Sunrisers Hyderabad', 'Mumbai Indians', 'Gujarat Lions',\n",
              "       'Rising Pune Supergiant', 'Royal Challengers Bangalore',\n",
              "       'Kolkata Knight Riders', 'Delhi Daredevils', 'Kings XI Punjab',\n",
              "       'Chennai Super Kings', 'Rajasthan Royals', 'Deccan Chargers',\n",
              "       'Kochi Tuskers Kerala', 'Pune Warriors', 'Rising Pune Supergiants',\n",
              "       'Delhi Capitals'], dtype=object)"
            ]
          },
          "metadata": {
            "tags": []
          },
          "execution_count": 59
        }
      ]
    },
    {
      "cell_type": "code",
      "metadata": {
        "colab_type": "code",
        "id": "uIvJqa8mCrx_",
        "colab": {}
      },
      "source": [
        "# Replace team name\n",
        "\n",
        "matches_df.replace('Rising Pune Supergiant', 'Rising Pune Supergiants', inplace=True)\n",
        "matches_df.replace('Delhi Daredevils', 'Delhi Capitals', inplace=True)\n",
        "matches_df.replace('Deccan Chargers', 'Sunrisers Hyderabad', inplace=True)"
      ],
      "execution_count": 0,
      "outputs": []
    },
    {
      "cell_type": "code",
      "metadata": {
        "colab_type": "code",
        "id": "fqz8lF_3Bej9",
        "colab": {}
      },
      "source": [
        "# Alias name function\n",
        "\n",
        "def team_alias(team):\n",
        "    if team=='Sunrisers Hyderabad':\n",
        "        return 'SRH'\n",
        "    elif team=='Mumbai Indians':\n",
        "        return 'MI'\n",
        "    elif team=='Gujarat Lions':\n",
        "        return 'GL'\n",
        "    elif team=='Rising Pune Supergiants'or team=='Pune Warriors':\n",
        "        return 'RPSG'\n",
        "    elif team=='Royal Challengers Bangalore':\n",
        "        return 'RCB'\n",
        "    elif team=='Kolkata Knight Riders':\n",
        "        return 'KKR'\n",
        "    elif team=='Delhi Capitals':\n",
        "        return 'DD'\n",
        "    elif team=='Kings XI Punjab':\n",
        "        return 'KXIP'\n",
        "    elif team=='Chennai Super Kings':\n",
        "        return 'CSK'\n",
        "    elif team=='Rajasthan Royals':\n",
        "        return 'RR'\n",
        "    elif team=='Kochi Tuskers Kerala':\n",
        "        return 'KTK'\n",
        "    else:\n",
        "        return team"
      ],
      "execution_count": 0,
      "outputs": []
    },
    {
      "cell_type": "code",
      "metadata": {
        "colab_type": "code",
        "id": "2thyx8DLDz4f",
        "colab": {}
      },
      "source": [
        "# Alias name assignment for matches data\n",
        "\n",
        "teams_columns = ['team1', 'team2', 'toss_winner', 'winner']\n",
        "\n",
        "for t in teams_columns:\n",
        "    matches_df[t] = matches_df[t].apply(team_alias)\n"
      ],
      "execution_count": 0,
      "outputs": []
    },
    {
      "cell_type": "code",
      "metadata": {
        "colab_type": "code",
        "id": "vNS5r6j7E25X",
        "outputId": "b0fdcc2d-d3de-42e0-b0ec-bec89935fc3a",
        "colab": {
          "base_uri": "https://localhost:8080/",
          "height": 51
        }
      },
      "source": [
        "# Unique team names\n",
        "\n",
        "matches_df['team1'].unique()"
      ],
      "execution_count": 63,
      "outputs": [
        {
          "output_type": "execute_result",
          "data": {
            "text/plain": [
              "array(['SRH', 'MI', 'GL', 'RPSG', 'RCB', 'KKR', 'DD', 'KXIP', 'CSK', 'RR',\n",
              "       'KTK'], dtype=object)"
            ]
          },
          "metadata": {
            "tags": []
          },
          "execution_count": 63
        }
      ]
    },
    {
      "cell_type": "markdown",
      "metadata": {
        "colab_type": "text",
        "id": "LZaVOAkFP2Cg"
      },
      "source": [
        "#### Datatype change\n",
        "\n",
        "- category - city, team1, team2, toss_winner, toss_decision, result, winner\n",
        "\n",
        "- datetime - date\n"
      ]
    },
    {
      "cell_type": "code",
      "metadata": {
        "colab_type": "code",
        "id": "3vkbuQ3JNrcE",
        "colab": {}
      },
      "source": [
        "# Data type changes\n",
        "\n",
        "matches_df = matches_df.astype(\n",
        "    {'city': 'category', 'team1': 'category', 'team2': 'category',\n",
        "     'toss_winner': 'category', 'toss_decision': 'category',\n",
        "     'result': 'category', 'winner': 'category', 'date': 'datetime64[ns]'}) "
      ],
      "execution_count": 0,
      "outputs": []
    },
    {
      "cell_type": "code",
      "metadata": {
        "colab_type": "code",
        "id": "jkQYELXvEALn",
        "outputId": "b78f4bbe-901e-4d76-b384-7d6287c842e8",
        "colab": {
          "base_uri": "https://localhost:8080/",
          "height": 442
        }
      },
      "source": [
        "# Info of matches\n",
        "\n",
        "matches_df.info(memory_usage='deep')"
      ],
      "execution_count": 65,
      "outputs": [
        {
          "output_type": "stream",
          "text": [
            "<class 'pandas.core.frame.DataFrame'>\n",
            "RangeIndex: 756 entries, 0 to 755\n",
            "Data columns (total 18 columns):\n",
            " #   Column           Non-Null Count  Dtype         \n",
            "---  ------           --------------  -----         \n",
            " 0   id               756 non-null    int64         \n",
            " 1   season           756 non-null    int64         \n",
            " 2   city             749 non-null    category      \n",
            " 3   date             756 non-null    datetime64[ns]\n",
            " 4   team1            756 non-null    category      \n",
            " 5   team2            756 non-null    category      \n",
            " 6   toss_winner      756 non-null    category      \n",
            " 7   toss_decision    756 non-null    category      \n",
            " 8   result           756 non-null    category      \n",
            " 9   dl_applied       756 non-null    int64         \n",
            " 10  winner           752 non-null    category      \n",
            " 11  win_by_runs      756 non-null    int64         \n",
            " 12  win_by_wickets   756 non-null    int64         \n",
            " 13  player_of_match  752 non-null    object        \n",
            " 14  venue            756 non-null    object        \n",
            " 15  umpire1          754 non-null    object        \n",
            " 16  umpire2          754 non-null    object        \n",
            " 17  umpire3          119 non-null    object        \n",
            "dtypes: category(7), datetime64[ns](1), int64(5), object(5)\n",
            "memory usage: 285.2 KB\n"
          ],
          "name": "stdout"
        }
      ]
    },
    {
      "cell_type": "markdown",
      "metadata": {
        "id": "DJBVfGoMlKDh",
        "colab_type": "text"
      },
      "source": [
        "Now matches if fomratted and shaped, memory usage is ~285 kb."
      ]
    },
    {
      "cell_type": "markdown",
      "metadata": {
        "colab_type": "text",
        "id": "2YF2MHuHQpCk"
      },
      "source": [
        "### Format Deliveries file\n",
        "\n",
        "Memory usage of deliveries file is 94.5 MB.\n",
        "\n",
        "Assign alias name to the ipl teams and change the datatype."
      ]
    },
    {
      "cell_type": "code",
      "metadata": {
        "colab_type": "code",
        "id": "LhNsAKpFPOS7",
        "colab": {}
      },
      "source": [
        "# Replace team name\n",
        "\n",
        "deliveries_df.replace('Rising Pune Supergiant', 'Rising Pune Supergiants', inplace=True)\n",
        "deliveries_df.replace('Delhi Daredevils', 'Delhi Capitals', inplace=True)\n",
        "deliveries_df.replace('Deccan Chargers', 'Sunrisers Hyderabad', inplace=True)"
      ],
      "execution_count": 0,
      "outputs": []
    },
    {
      "cell_type": "code",
      "metadata": {
        "colab_type": "code",
        "id": "gjVDIvpVPt_g",
        "colab": {}
      },
      "source": [
        "# Alias name assignment for matches data\n",
        "\n",
        "teams_columns = ['batting_team', 'bowling_team']\n",
        "\n",
        "for t in teams_columns:\n",
        "    deliveries_df[t] = deliveries_df[t].apply(team_alias)\n"
      ],
      "execution_count": 0,
      "outputs": []
    },
    {
      "cell_type": "markdown",
      "metadata": {
        "id": "BYvITRoGlhhZ",
        "colab_type": "text"
      },
      "source": [
        "### Datatype change\n",
        "\n",
        "- datatype changes - batting_team, bowling_team\n"
      ]
    },
    {
      "cell_type": "code",
      "metadata": {
        "colab_type": "code",
        "id": "BulaovgBS5rd",
        "colab": {}
      },
      "source": [
        "# datatype change\n",
        "\n",
        "deliveries_df = deliveries_df.astype({'batting_team': 'category',\n",
        "                                      'bowling_team': 'category'})"
      ],
      "execution_count": 0,
      "outputs": []
    },
    {
      "cell_type": "code",
      "metadata": {
        "colab_type": "code",
        "id": "2RgUj8T4TB79",
        "outputId": "e8a2426f-c05d-413b-86f2-9c60f46a09e9",
        "colab": {
          "base_uri": "https://localhost:8080/",
          "height": 493
        }
      },
      "source": [
        "# Info of deliveries\n",
        "\n",
        "deliveries_df.info(memory_usage='deep')"
      ],
      "execution_count": 69,
      "outputs": [
        {
          "output_type": "stream",
          "text": [
            "<class 'pandas.core.frame.DataFrame'>\n",
            "RangeIndex: 179078 entries, 0 to 179077\n",
            "Data columns (total 21 columns):\n",
            " #   Column            Non-Null Count   Dtype   \n",
            "---  ------            --------------   -----   \n",
            " 0   match_id          179078 non-null  int64   \n",
            " 1   inning            179078 non-null  int64   \n",
            " 2   batting_team      179078 non-null  category\n",
            " 3   bowling_team      179078 non-null  category\n",
            " 4   over              179078 non-null  int64   \n",
            " 5   ball              179078 non-null  int64   \n",
            " 6   batsman           179078 non-null  object  \n",
            " 7   non_striker       179078 non-null  object  \n",
            " 8   bowler            179078 non-null  object  \n",
            " 9   is_super_over     179078 non-null  int64   \n",
            " 10  wide_runs         179078 non-null  int64   \n",
            " 11  bye_runs          179078 non-null  int64   \n",
            " 12  legbye_runs       179078 non-null  int64   \n",
            " 13  noball_runs       179078 non-null  int64   \n",
            " 14  penalty_runs      179078 non-null  int64   \n",
            " 15  batsman_runs      179078 non-null  int64   \n",
            " 16  extra_runs        179078 non-null  int64   \n",
            " 17  total_runs        179078 non-null  int64   \n",
            " 18  player_dismissed  8834 non-null    object  \n",
            " 19  dismissal_kind    8834 non-null    object  \n",
            " 20  fielder           6448 non-null    object  \n",
            "dtypes: category(2), int64(13), object(6)\n",
            "memory usage: 69.3 MB\n"
          ],
          "name": "stdout"
        }
      ]
    },
    {
      "cell_type": "markdown",
      "metadata": {
        "id": "jmE1jbrjlzsf",
        "colab_type": "text"
      },
      "source": [
        "Now memory usage of deliveries file is ~ 69 MB"
      ]
    },
    {
      "cell_type": "markdown",
      "metadata": {
        "id": "kr0UF25mN-4k",
        "colab_type": "text"
      },
      "source": [
        "### Venue name\n",
        "\n",
        "Venue shares more than 1 name in matches file"
      ]
    },
    {
      "cell_type": "code",
      "metadata": {
        "id": "doAzho4gPO15",
        "colab_type": "code",
        "colab": {
          "base_uri": "https://localhost:8080/",
          "height": 34
        },
        "outputId": "7e8f3522-c88b-4fe0-ca1e-be128f2cd4b9"
      },
      "source": [
        "# Number of unique venue\n",
        "\n",
        "matches_df['venue'].nunique()"
      ],
      "execution_count": 70,
      "outputs": [
        {
          "output_type": "execute_result",
          "data": {
            "text/plain": [
              "41"
            ]
          },
          "metadata": {
            "tags": []
          },
          "execution_count": 70
        }
      ]
    },
    {
      "cell_type": "code",
      "metadata": {
        "id": "-bzizmmzObk-",
        "colab_type": "code",
        "colab": {
          "base_uri": "https://localhost:8080/",
          "height": 714
        },
        "outputId": "6fc750f8-6ccb-4ff4-e800-c4891267174b"
      },
      "source": [
        "sorted(matches_df['venue'].unique())"
      ],
      "execution_count": 71,
      "outputs": [
        {
          "output_type": "execute_result",
          "data": {
            "text/plain": [
              "['ACA-VDCA Stadium',\n",
              " 'Barabati Stadium',\n",
              " 'Brabourne Stadium',\n",
              " 'Buffalo Park',\n",
              " 'De Beers Diamond Oval',\n",
              " 'Dr DY Patil Sports Academy',\n",
              " 'Dr. Y.S. Rajasekhara Reddy ACA-VDCA Cricket Stadium',\n",
              " 'Dubai International Cricket Stadium',\n",
              " 'Eden Gardens',\n",
              " 'Feroz Shah Kotla',\n",
              " 'Feroz Shah Kotla Ground',\n",
              " 'Green Park',\n",
              " 'Himachal Pradesh Cricket Association Stadium',\n",
              " 'Holkar Cricket Stadium',\n",
              " 'IS Bindra Stadium',\n",
              " 'JSCA International Stadium Complex',\n",
              " 'Kingsmead',\n",
              " 'M Chinnaswamy Stadium',\n",
              " 'M. A. Chidambaram Stadium',\n",
              " 'M. Chinnaswamy Stadium',\n",
              " 'MA Chidambaram Stadium, Chepauk',\n",
              " 'Maharashtra Cricket Association Stadium',\n",
              " 'Nehru Stadium',\n",
              " 'New Wanderers Stadium',\n",
              " 'Newlands',\n",
              " 'OUTsurance Oval',\n",
              " 'Punjab Cricket Association IS Bindra Stadium, Mohali',\n",
              " 'Punjab Cricket Association Stadium, Mohali',\n",
              " 'Rajiv Gandhi International Stadium, Uppal',\n",
              " 'Rajiv Gandhi Intl. Cricket Stadium',\n",
              " 'Sardar Patel Stadium, Motera',\n",
              " 'Saurashtra Cricket Association Stadium',\n",
              " 'Sawai Mansingh Stadium',\n",
              " 'Shaheed Veer Narayan Singh International Stadium',\n",
              " 'Sharjah Cricket Stadium',\n",
              " 'Sheikh Zayed Stadium',\n",
              " \"St George's Park\",\n",
              " 'Subrata Roy Sahara Stadium',\n",
              " 'SuperSport Park',\n",
              " 'Vidarbha Cricket Association Stadium, Jamtha',\n",
              " 'Wankhede Stadium']"
            ]
          },
          "metadata": {
            "tags": []
          },
          "execution_count": 71
        }
      ]
    },
    {
      "cell_type": "code",
      "metadata": {
        "id": "C5t7lnqvOb6s",
        "colab_type": "code",
        "colab": {
          "base_uri": "https://localhost:8080/",
          "height": 34
        },
        "outputId": "605173f7-c294-4e3b-f235-65fd8fbcf83b"
      },
      "source": [
        "# Replacing venue names\n",
        "\n",
        "matches_df['venue']=matches_df['venue'].str.replace('Feroz Shah Kotla Ground','Feroz Shah Kotla')\n",
        "matches_df['venue']=matches_df['venue'].str.replace('M. Chinnaswamy Stadium', 'M Chinnaswamy Stadium')\n",
        "matches_df['venue']=matches_df['venue'].str.replace('M. A. Chidambaram Stadium', 'MA Chidambaram Stadium, Chepauk')\n",
        "matches_df['venue']=matches_df['venue'].str.replace('Rajiv Gandhi Intl. Cricket Stadium', \n",
        "                                                    'Rajiv Gandhi International Stadium, Uppal')\n",
        "matches_df['venue']=matches_df['venue'].str.replace('Punjab Cricket Association IS Bindra Stadium, Mohali', \n",
        "                                'Punjab Cricket Association Stadium, Mohali')\n",
        "\n",
        "matches_df['venue']=matches_df['venue'].str.replace('IS Bindra Stadium', \n",
        "                                'Punjab Cricket Association Stadium, Mohali')\n",
        "\n",
        "\n",
        "matches_df['venue'].nunique()"
      ],
      "execution_count": 72,
      "outputs": [
        {
          "output_type": "execute_result",
          "data": {
            "text/plain": [
              "35"
            ]
          },
          "metadata": {
            "tags": []
          },
          "execution_count": 72
        }
      ]
    },
    {
      "cell_type": "markdown",
      "metadata": {
        "colab_type": "text",
        "id": "VyIb5ed4Tf5u"
      },
      "source": [
        "### Merge the 2 files\n",
        "\n",
        "- Merge matches and deliveries data into one file for further analysis."
      ]
    },
    {
      "cell_type": "code",
      "metadata": {
        "colab_type": "code",
        "id": "UTGiy59HTGvK",
        "colab": {}
      },
      "source": [
        "# Merge 2 files\n",
        "\n",
        "ipl_df = pd.merge(deliveries_df, matches_df, left_on='match_id', right_on='id')"
      ],
      "execution_count": 0,
      "outputs": []
    },
    {
      "cell_type": "code",
      "metadata": {
        "colab_type": "code",
        "id": "ddryREBvT0ak",
        "colab": {}
      },
      "source": [
        "# Save merged content into file\n",
        "\n",
        "ipl_df.to_csv('../data/deliveries_and_matches.csv', index=False)"
      ],
      "execution_count": 0,
      "outputs": []
    },
    {
      "cell_type": "code",
      "metadata": {
        "id": "UOZ9Mvb1Pc7P",
        "colab_type": "code",
        "colab": {}
      },
      "source": [
        ""
      ],
      "execution_count": 0,
      "outputs": []
    }
  ]
}